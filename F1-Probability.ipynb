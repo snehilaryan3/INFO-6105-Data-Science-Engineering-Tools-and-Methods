{
 "cells": [
  {
   "cell_type": "markdown",
   "metadata": {},
   "source": [
    "# Part 1- 7 F1 racers go to 7 shows where each racer goes to one and only one show for 7 minutes\n",
    "\n",
    "We first create a sample space where the columns demonstrate the fashion show number different drivers visited. It is a list of tuples. \n",
    "For example (\"1\", \"4\", \"4\", \"4\", \"2\", \"3\", \"7\") means Driver 1 visited the first fashion show, Drivers 2, 3, and 4 visited the fourth fashion show. Driver 5 the third and Driver 7 the seventh fashion show. \n"
   ]
  },
  {
   "cell_type": "code",
   "execution_count": 1,
   "metadata": {},
   "outputs": [],
   "source": [
    "from itertools import product\n",
    "N = 7 \n",
    "res = []\n",
    "for ele in product(range(1, N + 1), repeat = N):\n",
    "    res.append(ele)"
   ]
  },
  {
   "cell_type": "code",
   "execution_count": 2,
   "metadata": {},
   "outputs": [
    {
     "name": "stdout",
     "output_type": "stream",
     "text": [
      "True\n"
     ]
    },
    {
     "data": {
      "text/plain": [
       "[(1, 1, 1, 1, 1, 1, 1),\n",
       " (1, 1, 1, 1, 1, 1, 2),\n",
       " (1, 1, 1, 1, 1, 1, 3),\n",
       " (1, 1, 1, 1, 1, 1, 4),\n",
       " (1, 1, 1, 1, 1, 1, 5),\n",
       " (1, 1, 1, 1, 1, 1, 6),\n",
       " (1, 1, 1, 1, 1, 1, 7),\n",
       " (1, 1, 1, 1, 1, 2, 1),\n",
       " (1, 1, 1, 1, 1, 2, 2),\n",
       " (1, 1, 1, 1, 1, 2, 3)]"
      ]
     },
     "execution_count": 2,
     "metadata": {},
     "output_type": "execute_result"
    }
   ],
   "source": [
    "len(res)\n",
    "res_set = set(res) # to check if there are duplicates and verify our sample space. \n",
    "print(len(res) == len(res_set))\n",
    "res[:10]"
   ]
  },
  {
   "cell_type": "code",
   "execution_count": 3,
   "metadata": {},
   "outputs": [
    {
     "data": {
      "text/plain": [
       "0.6600833229108862"
      ]
     },
     "execution_count": 3,
     "metadata": {},
     "output_type": "execute_result"
    }
   ],
   "source": [
    "#probability of seeing driver if he goes to first fashion show. \n",
    "count = 0 \n",
    "for i in res:\n",
    "    if (1 in i):\n",
    "        count = count + 1 \n",
    "        \n",
    "p = count/len(res)\n",
    "p\n"
   ]
  },
  {
   "cell_type": "markdown",
   "metadata": {},
   "source": [
    "The probability of going to fashion 1: P(F1) = 1/7\n",
    "The probabilty of seeing a driver at fashion show 1 = 0.6600833229108862\n",
    "\n",
    "total probability = P(F1) + P(F2) + P(F3) + P(F4) + P(F5) + P(F6) + P(F7) = (1/7*p) * 7 = p\n",
    "                        "
   ]
  },
  {
   "cell_type": "code",
   "execution_count": null,
   "metadata": {},
   "outputs": [],
   "source": []
  },
  {
   "cell_type": "markdown",
   "metadata": {},
   "source": [
    "# Part 2 one F1 driver goes to one or more of 7 shows for exactly 7 times and for 7 minutes each time\n",
    "\n",
    "No of combinations of 1 F1 Racer attending 7 shows is equal to 7 racers attending 7 shows. \n",
    "For this condition, the time slots are like 7 different drivers hence the sample space is exactly same where the columns represent timeslots. For example \n",
    "(\"1\", \"4\", \"4\", \"4\", \"2\", \"3\", \"7\") means that the driver goes to Fashion Show-1 in the first time slot, to Fashion show 4 in the next 3 time slots and attends Fashion Show 2, 3, and 7 for the next 3 time slots. \n",
    "\n",
    "Hence the sample space will be the same as before which is list **res**\n",
    "\n",
    "The probability of going to fashion 1: P(F1) = 1/7\n",
    "The probabilty of seeing a driver at fashion show 1 = 0.6600833229108862\n",
    "\n",
    "total probability = P(F1) + P(F2) + P(F3) + P(F4) + P(F5) + P(F6) + P(F7) = (1/7*p) * 7 = p"
   ]
  },
  {
   "cell_type": "code",
   "execution_count": 4,
   "metadata": {},
   "outputs": [
    {
     "data": {
      "text/plain": [
       "0.6600833229108862"
      ]
     },
     "execution_count": 4,
     "metadata": {},
     "output_type": "execute_result"
    }
   ],
   "source": [
    "#probability of seeing driver if he goes to first fashion show. \n",
    "count = 0 \n",
    "for i in res:\n",
    "    if (1 in i):\n",
    "        count = count + 1 \n",
    "        \n",
    "p_one_driver_multiple_shows = count/len(res_set)\n",
    "p_one_driver_multiple_shows"
   ]
  },
  {
   "cell_type": "markdown",
   "metadata": {},
   "source": [
    "The probability of going to fashion 1: P(F1) = 1/7\n",
    "The probabilty of seeing a driver at fashion show 1 = 0.6600833229108862\n",
    "\n",
    "total probability = P(F1) + P(F2) + P(F3) + P(F4) + P(F5) + P(F6) + P(F7) = (1/7*p) * 7 = p"
   ]
  },
  {
   "cell_type": "code",
   "execution_count": 5,
   "metadata": {},
   "outputs": [
    {
     "data": {
      "text/plain": [
       "0.6600833229108862"
      ]
     },
     "execution_count": 5,
     "metadata": {},
     "output_type": "execute_result"
    }
   ],
   "source": [
    "((1/7)*p_one_driver_multiple_shows)*7"
   ]
  },
  {
   "cell_type": "markdown",
   "metadata": {},
   "source": [
    "Alternatively, after a word with the TAs, and exploring the clues together we have come up with another approach to solve the problem disregrading the order in the combinations generated and we found something interesting. \n",
    "\n",
    "In this case only the number of times a fashion show was visited by the driver matters, the order does not. \n",
    "\n",
    "We first generate the sample space, find the probability if Professor visits the first fashion show and then add the probabilities in the same way as above using the following:\n",
    "\n",
    "\n",
    "The probability of going to fashion 1: P(F1) = 1/7 The probabilty of seeing a driver at fashion show 1 = 0.6600833229108862\n",
    "\n",
    "total probability = P(F1) + P(F2) + P(F3) + P(F4) + P(F5) + P(F6) + P(F7) = (1/7*p) * 7 = p\n"
   ]
  },
  {
   "cell_type": "code",
   "execution_count": 6,
   "metadata": {},
   "outputs": [
    {
     "data": {
      "text/plain": [
       "[('1', '1', '1', '1', '1', '1', '1'),\n",
       " ('1', '1', '1', '1', '1', '1', '2'),\n",
       " ('1', '1', '1', '1', '1', '1', '3'),\n",
       " ('1', '1', '1', '1', '1', '1', '4'),\n",
       " ('1', '1', '1', '1', '1', '1', '5'),\n",
       " ('1', '1', '1', '1', '1', '1', '6'),\n",
       " ('1', '1', '1', '1', '1', '1', '7'),\n",
       " ('1', '1', '1', '1', '1', '2', '2'),\n",
       " ('1', '1', '1', '1', '1', '2', '3'),\n",
       " ('1', '1', '1', '1', '1', '2', '4'),\n",
       " ('1', '1', '1', '1', '1', '2', '5'),\n",
       " ('1', '1', '1', '1', '1', '2', '6'),\n",
       " ('1', '1', '1', '1', '1', '2', '7'),\n",
       " ('1', '1', '1', '1', '1', '3', '3'),\n",
       " ('1', '1', '1', '1', '1', '3', '4'),\n",
       " ('1', '1', '1', '1', '1', '3', '5'),\n",
       " ('1', '1', '1', '1', '1', '3', '6'),\n",
       " ('1', '1', '1', '1', '1', '3', '7'),\n",
       " ('1', '1', '1', '1', '1', '4', '4'),\n",
       " ('1', '1', '1', '1', '1', '4', '5'),\n",
       " ('1', '1', '1', '1', '1', '4', '6'),\n",
       " ('1', '1', '1', '1', '1', '4', '7'),\n",
       " ('1', '1', '1', '1', '1', '5', '5'),\n",
       " ('1', '1', '1', '1', '1', '5', '6'),\n",
       " ('1', '1', '1', '1', '1', '5', '7'),\n",
       " ('1', '1', '1', '1', '1', '6', '6'),\n",
       " ('1', '1', '1', '1', '1', '6', '7'),\n",
       " ('1', '1', '1', '1', '1', '7', '7'),\n",
       " ('1', '1', '1', '1', '2', '2', '2'),\n",
       " ('1', '1', '1', '1', '2', '2', '3'),\n",
       " ('1', '1', '1', '1', '2', '2', '4'),\n",
       " ('1', '1', '1', '1', '2', '2', '5'),\n",
       " ('1', '1', '1', '1', '2', '2', '6'),\n",
       " ('1', '1', '1', '1', '2', '2', '7'),\n",
       " ('1', '1', '1', '1', '2', '3', '3'),\n",
       " ('1', '1', '1', '1', '2', '3', '4'),\n",
       " ('1', '1', '1', '1', '2', '3', '5'),\n",
       " ('1', '1', '1', '1', '2', '3', '6'),\n",
       " ('1', '1', '1', '1', '2', '3', '7'),\n",
       " ('1', '1', '1', '1', '2', '4', '4'),\n",
       " ('1', '1', '1', '1', '2', '4', '5'),\n",
       " ('1', '1', '1', '1', '2', '4', '6'),\n",
       " ('1', '1', '1', '1', '2', '4', '7'),\n",
       " ('1', '1', '1', '1', '2', '5', '5'),\n",
       " ('1', '1', '1', '1', '2', '5', '6'),\n",
       " ('1', '1', '1', '1', '2', '5', '7'),\n",
       " ('1', '1', '1', '1', '2', '6', '6'),\n",
       " ('1', '1', '1', '1', '2', '6', '7'),\n",
       " ('1', '1', '1', '1', '2', '7', '7'),\n",
       " ('1', '1', '1', '1', '3', '3', '3'),\n",
       " ('1', '1', '1', '1', '3', '3', '4'),\n",
       " ('1', '1', '1', '1', '3', '3', '5'),\n",
       " ('1', '1', '1', '1', '3', '3', '6'),\n",
       " ('1', '1', '1', '1', '3', '3', '7'),\n",
       " ('1', '1', '1', '1', '3', '4', '4'),\n",
       " ('1', '1', '1', '1', '3', '4', '5'),\n",
       " ('1', '1', '1', '1', '3', '4', '6'),\n",
       " ('1', '1', '1', '1', '3', '4', '7'),\n",
       " ('1', '1', '1', '1', '3', '5', '5'),\n",
       " ('1', '1', '1', '1', '3', '5', '6'),\n",
       " ('1', '1', '1', '1', '3', '5', '7'),\n",
       " ('1', '1', '1', '1', '3', '6', '6'),\n",
       " ('1', '1', '1', '1', '3', '6', '7'),\n",
       " ('1', '1', '1', '1', '3', '7', '7'),\n",
       " ('1', '1', '1', '1', '4', '4', '4'),\n",
       " ('1', '1', '1', '1', '4', '4', '5'),\n",
       " ('1', '1', '1', '1', '4', '4', '6'),\n",
       " ('1', '1', '1', '1', '4', '4', '7'),\n",
       " ('1', '1', '1', '1', '4', '5', '5'),\n",
       " ('1', '1', '1', '1', '4', '5', '6'),\n",
       " ('1', '1', '1', '1', '4', '5', '7'),\n",
       " ('1', '1', '1', '1', '4', '6', '6'),\n",
       " ('1', '1', '1', '1', '4', '6', '7'),\n",
       " ('1', '1', '1', '1', '4', '7', '7'),\n",
       " ('1', '1', '1', '1', '5', '5', '5'),\n",
       " ('1', '1', '1', '1', '5', '5', '6'),\n",
       " ('1', '1', '1', '1', '5', '5', '7'),\n",
       " ('1', '1', '1', '1', '5', '6', '6'),\n",
       " ('1', '1', '1', '1', '5', '6', '7'),\n",
       " ('1', '1', '1', '1', '5', '7', '7'),\n",
       " ('1', '1', '1', '1', '6', '6', '6'),\n",
       " ('1', '1', '1', '1', '6', '6', '7'),\n",
       " ('1', '1', '1', '1', '6', '7', '7'),\n",
       " ('1', '1', '1', '1', '7', '7', '7'),\n",
       " ('1', '1', '1', '2', '2', '2', '2'),\n",
       " ('1', '1', '1', '2', '2', '2', '3'),\n",
       " ('1', '1', '1', '2', '2', '2', '4'),\n",
       " ('1', '1', '1', '2', '2', '2', '5'),\n",
       " ('1', '1', '1', '2', '2', '2', '6'),\n",
       " ('1', '1', '1', '2', '2', '2', '7'),\n",
       " ('1', '1', '1', '2', '2', '3', '3'),\n",
       " ('1', '1', '1', '2', '2', '3', '4'),\n",
       " ('1', '1', '1', '2', '2', '3', '5'),\n",
       " ('1', '1', '1', '2', '2', '3', '6'),\n",
       " ('1', '1', '1', '2', '2', '3', '7'),\n",
       " ('1', '1', '1', '2', '2', '4', '4'),\n",
       " ('1', '1', '1', '2', '2', '4', '5'),\n",
       " ('1', '1', '1', '2', '2', '4', '6'),\n",
       " ('1', '1', '1', '2', '2', '4', '7'),\n",
       " ('1', '1', '1', '2', '2', '5', '5')]"
      ]
     },
     "execution_count": 6,
     "metadata": {},
     "output_type": "execute_result"
    }
   ],
   "source": [
    "from itertools import combinations_with_replacement\n",
    "\n",
    "fashion_shows = '1234567'\n",
    "sample_no_order = list(combinations_with_replacement(fashion_shows, 7))\n",
    "sample_no_order[:100]"
   ]
  },
  {
   "cell_type": "code",
   "execution_count": 7,
   "metadata": {},
   "outputs": [
    {
     "data": {
      "text/plain": [
       "0.5384615384615384"
      ]
     },
     "execution_count": 7,
     "metadata": {},
     "output_type": "execute_result"
    }
   ],
   "source": [
    "count = 0 \n",
    "for i in sample_no_order:\n",
    "    if (\"1\" in i):\n",
    "        count = count + 1 \n",
    "        \n",
    "p = count/len(sample_no_order)\n",
    "p"
   ]
  },
  {
   "cell_type": "markdown",
   "metadata": {},
   "source": [
    "# Solving it Using the famous **p** function "
   ]
  },
  {
   "cell_type": "code",
   "execution_count": 8,
   "metadata": {},
   "outputs": [],
   "source": [
    "from fractions import Fraction\n",
    "class ProbDist(dict):\n",
    "    \"\"\"A Probability Distribution; an {outcome: probability} mapping.\"\"\"\n",
    "    def __init__(self, mapping=(), **kwargs):\n",
    "        self.update(mapping, **kwargs)\n",
    "        # Make probabilities sum to 1.0; assert no negative probabilities\n",
    "        total = sum(self.values())\n",
    "        for outcome in self:\n",
    "            self[outcome] = self[outcome] / total\n",
    "            assert self[outcome] >= 0\n",
    "\n",
    "def joint(A, B, sep=' '):\n",
    "    \"\"\"The joint distribution of two independent probability distributions. \n",
    "    Result is all entries of the form {a+sep+b: P(a)*P(b)}\"\"\"\n",
    "    return ProbDist({a + sep + b: A[a] * B[b]\n",
    "                    for a in A\n",
    "                    for b in B})\n",
    "\n",
    "def p(event, space): \n",
    "    \"\"\"The probability of an event, given a sample space of equiprobable outcomes. \n",
    "    event: a collection of outcomes, or a predicate that is true of outcomes in the event. \n",
    "    space: a set of outcomes or a probability distribution of {outcome: frequency} pairs.\"\"\"\n",
    "    # branch on the type of the first argument\n",
    "    if is_predicate(event):\n",
    "        # transform the mapping (untangible) 'event' into the collection (tangible) 'event'\n",
    "        event = such_that(event, space)\n",
    "        \n",
    "    if isinstance(space, ProbDist):\n",
    "        # if space is a dictionary of distinct probabilities, where each item does not count as the same amount\n",
    "        return sum(space[k] for k in space if k in event)\n",
    "        #return sum({space[k] for k in space & event})\n",
    "    else:\n",
    "        # space is not a dictionary but a collection, let's fall back to our original division\n",
    "        return Fraction(len(event & space), len(space))\n",
    "\n",
    "is_predicate = callable\n",
    "\n",
    "def such_that(predicate, space): \n",
    "    \"\"\"The outcomes in the sample pace for which the predicate is true.\n",
    "    If space is a set, return a subset {outcome,...} with outcomes where predicate(element) is true;\n",
    "    if space is a ProbDist, return a ProbDist {outcome: frequency,...} with outcomes where predicate(element) is true.\"\"\"\n",
    "    if isinstance(space, ProbDist):\n",
    "        return ProbDist({o:space[o] for o in space if predicate(o)})\n",
    "    else:\n",
    "        return {o for o in space if predicate(o)}\n"
   ]
  },
  {
   "cell_type": "code",
   "execution_count": 9,
   "metadata": {},
   "outputs": [
    {
     "data": {
      "text/plain": [
       "0.6600833229108862"
      ]
     },
     "execution_count": 9,
     "metadata": {},
     "output_type": "execute_result"
    }
   ],
   "source": [
    "#predicates for driver visiting the first fashion show. \n",
    "\n",
    "def not_alone(outcome) : return 1 in outcome #if fashion show 1 gets a visit by the driver\n",
    "\n",
    "p_prof_meets_in_show_1 = p(not_alone, res_set)\n",
    "p_prof_meets = ((1/7)*p_prof_meets_in_show_1)*7\n",
    "p_prof_meets"
   ]
  },
  {
   "cell_type": "code",
   "execution_count": 10,
   "metadata": {},
   "outputs": [
    {
     "data": {
      "text/plain": [
       "Fraction(543607, 823543)"
      ]
     },
     "execution_count": 10,
     "metadata": {},
     "output_type": "execute_result"
    }
   ],
   "source": [
    "#it can be seen that the probability is equal for other fashion shows as well\n",
    "#predicates for driver visiting the first fashion show. \n",
    "\n",
    "def not_alone(outcome) : return 2 in outcome #\n",
    "\n",
    "p_prof_meets_in_show_2 = p(not_alone, res_set)\n",
    "p_prof_meets_in_show_2"
   ]
  },
  {
   "cell_type": "markdown",
   "metadata": {},
   "source": [
    "# Alternate theory using p function where the order of visit does not matter "
   ]
  },
  {
   "cell_type": "code",
   "execution_count": 11,
   "metadata": {},
   "outputs": [
    {
     "data": {
      "text/plain": [
       "0.5384615384615384"
      ]
     },
     "execution_count": 11,
     "metadata": {},
     "output_type": "execute_result"
    }
   ],
   "source": [
    "def not_alone_alternate(outcome) : return \"1\" in outcome #defining another predicate because the other sample space has string values. \n",
    "\n",
    "sample_no_order_set = set(sample_no_order)\n",
    "p_prof_meets_in_show_1 = p(not_alone_alternate, sample_no_order_set)\n",
    "p_prof_meets = ((1/7)*p_prof_meets_in_show_1)*7\n",
    "p_prof_meets"
   ]
  },
  {
   "cell_type": "markdown",
   "metadata": {},
   "source": [
    "It can be seen that our answers match for both the methods. "
   ]
  },
  {
   "cell_type": "markdown",
   "metadata": {},
   "source": [
    "# Using Monte Carlo"
   ]
  },
  {
   "cell_type": "code",
   "execution_count": 13,
   "metadata": {},
   "outputs": [],
   "source": [
    "import numpy as np\n",
    "from tqdm import tqdm\n",
    "\n",
    "\n",
    "\n",
    "numdrivers = 7\n",
    "numshows = 7\n",
    "def sim(n):\n",
    "    yes = 0\n",
    "    no = 0\n",
    "    \n",
    "    for i in tqdm(range(n)):\n",
    "        shows = []\n",
    "        shows.extend(np.random.randint(low = 0,high = 7, size=7))\n",
    "        me = np.random.randint(low = 0,high = 6, size=1)\n",
    "        \n",
    "        if me in shows:\n",
    "            yes+=1\n",
    "        else:\n",
    "            no+=1\n",
    "            \n",
    "    return yes / n"
   ]
  },
  {
   "cell_type": "code",
   "execution_count": 14,
   "metadata": {},
   "outputs": [
    {
     "name": "stderr",
     "output_type": "stream",
     "text": [
      "100%|███████████████████████████████████████████████████████████████████████████| 1000/1000 [00:00<00:00, 66693.76it/s]\n"
     ]
    },
    {
     "data": {
      "text/plain": [
       "0.647"
      ]
     },
     "execution_count": 14,
     "metadata": {},
     "output_type": "execute_result"
    }
   ],
   "source": [
    "sim(1000)"
   ]
  }
 ],
 "metadata": {
  "kernelspec": {
   "display_name": "Python 3",
   "language": "python",
   "name": "python3"
  },
  "language_info": {
   "codemirror_mode": {
    "name": "ipython",
    "version": 3
   },
   "file_extension": ".py",
   "mimetype": "text/x-python",
   "name": "python",
   "nbconvert_exporter": "python",
   "pygments_lexer": "ipython3",
   "version": "3.7.4"
  }
 },
 "nbformat": 4,
 "nbformat_minor": 2
}
