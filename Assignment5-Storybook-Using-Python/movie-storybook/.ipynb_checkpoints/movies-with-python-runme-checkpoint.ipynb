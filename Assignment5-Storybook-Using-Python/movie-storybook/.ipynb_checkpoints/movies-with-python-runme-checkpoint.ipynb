{
 "cells": [
  {
   "cell_type": "markdown",
   "metadata": {},
   "source": [
    "<div style=\"text-align: right\">INFO 6105 Data Science Eng Methods and Tools, Lecture 5 Day 2</div>\n",
    "<div style=\"text-align: right\">Dino Konstantopoulos, 6 October 2022</div>\n",
    "<div style=\"text-align: right\">Movie storybooks with Python</div>\n",
    "\n",
    "You're going to write a movie storybook by acting in it with your teammates and maybe friends. You're going to take pictures about key scenes in the movie, turn them into cartoons to make the pictures look like drawings, then stage and direct the pictures into the producion of a storybook that you can use to pitch your movie to Hollywood/Bollywood/Hengdian studios. \n",
    "\n",
    "You'll be in a team of 3. There will be two submissions: i) The storybook as a PDF file, an english version and a version in *your*language, ii) The software for the entire storybook. You are not allowed to stitch pictures together with paintbrush programs, it all needs to be in python.\n",
    "\n",
    "I'll help you by showing you some examples of how to do all this.\n",
    "\n",
    "# How to use Python Libraries\n",
    "\n",
    "To install python libraries, you open your anaconda terminal (on Windows), and type:\n",
    "```(python)\n",
    "conda install <the library>\n",
    "```\n",
    "\n",
    "or\n",
    "\n",
    "```(python)\n",
    "pip install <the library>\n",
    "```\n",
    "\n",
    "In image processing, `Pillow` (or `pil`) and `cv2` are very popular image processing libraries. You'll do your homework with them and, at the same time, you'll train to become a producer. It's like going to Hollywood school, only better because it's all in Python!\n",
    "\n",
    "\n",
    "# Producing a movie as a storybook with Python\n",
    "\n",
    "<br />\n",
    "<center>\n",
    "<img src=\"ipynb.images/parasite.jpg\" width=400 />\n",
    "</center>\n",
    "\n",
    "I'll give you the main code blocks for your homework in this notebook, but you will do all the work! This a very time-consuming homework, so your team and you need to start on this right away. You'll have from now until right before our *2nd class next week* to complete it.\n",
    "\n",
    "You are going to stage, direct, act, and produce your own movie!\n",
    "\n",
    "Instead of *filming* the movie, you are going to produce it as a *storybook*, that you can then present to studios to raise money for its production.\n",
    "\n",
    "You will act with your team and you are going to take your own pictures and turn them into drawings using Python. You will produce the storybook in PDF format that consists of at least three pages and not more than 6 pages of about 20 images each, with text. You need to program the stitching-together of pictures in Python. You are not allowed to stitch them together with paintbrush-type apps.\n",
    "\n",
    "Best storybooks will win Oscars in 6 best categories:\n",
    "\n",
    "- best adapted screenplay\n",
    "- best original screenplay\n",
    "- best cinematography\n",
    "- best director\n",
    "- best acting (male or female)\n",
    "- best picture\n",
    "\n",
    "**中国学生将用中文写故事**\n",
    "\n",
    "**भारतीय छात्र कहानी को भारतीय में लिखेंगे**\n",
    "\n",
    "You also need to produce your movie in two languages: English and your own. **All submissions need to be accompanied by the same story in english**. In other words, your submission will consist to *two* pdf files, one with dialogue in *your* language, and one with dialogue in english. The pictures need to be the same.\n",
    "\n",
    "You work as a team and the submissions are *per tam*.\n",
    "\n",
    "Let's look at some examples of how to do this with two amazing python libraries for image processing called pillow, `PIL` in short, and `cv2`.\n",
    "\n",
    "Here are the python code blocks:"
   ]
  },
  {
   "cell_type": "markdown",
   "metadata": {},
   "source": [
    "## Displaying images\n",
    "Unzip the zip file from canvas and put the contents in your `Users/<Username>` folder in order to create the folders used below."
   ]
  },
  {
   "cell_type": "code",
   "execution_count": null,
   "metadata": {
    "scrolled": false
   },
   "outputs": [],
   "source": [
    "from IPython.display import Image\n",
    "Image(filename='toons/miyazaki/spirited away/chihiro_parents.png', width=400)"
   ]
  },
  {
   "cell_type": "code",
   "execution_count": null,
   "metadata": {},
   "outputs": [],
   "source": [
    "Image(filename='toons/monkey-king/Monkey_King.png', width=400)"
   ]
  },
  {
   "cell_type": "code",
   "execution_count": null,
   "metadata": {},
   "outputs": [],
   "source": [
    "Image(filename='toons/jungle-book/_104680082_junglebook.jpg', width=400)"
   ]
  },
  {
   "cell_type": "code",
   "execution_count": null,
   "metadata": {},
   "outputs": [],
   "source": [
    "Image(filename='toons/avengers/dims.jpg', width=400)"
   ]
  },
  {
   "cell_type": "markdown",
   "metadata": {},
   "source": [
    "## Adding a border"
   ]
  },
  {
   "cell_type": "markdown",
   "metadata": {},
   "source": [
    "Adding borders to a picture is important in order to be able to stitch storybook strips together. We can do so with the `PIL` library:\n",
    "```(python)\n",
    "pip install pillow\n",
    "```"
   ]
  },
  {
   "cell_type": "code",
   "execution_count": null,
   "metadata": {},
   "outputs": [],
   "source": [
    "from PIL import Image as pili, ImageOps as piliops\n",
    "\n",
    "piliops.expand(pili.open('toons/avengers/dims.jpg'), border=(100,100),fill='white').save('toons/avengers/dims2.jpg')"
   ]
  },
  {
   "cell_type": "code",
   "execution_count": null,
   "metadata": {},
   "outputs": [],
   "source": [
    "Image(filename='toons/avengers/dims2.jpg', width=400)"
   ]
  },
  {
   "cell_type": "markdown",
   "metadata": {},
   "source": [
    "Here's the border in another color:"
   ]
  },
  {
   "cell_type": "code",
   "execution_count": null,
   "metadata": {},
   "outputs": [],
   "source": [
    "from PIL import Image as pili, ImageOps as piliops\n",
    "\n",
    "piliops.expand(pili.open('toons/avengers/dims.jpg'), border=(100,100),fill='green').save('toons/avengers/dims2.jpg')"
   ]
  },
  {
   "cell_type": "code",
   "execution_count": null,
   "metadata": {},
   "outputs": [],
   "source": [
    "Image(filename='toons/avengers/dims2.jpg', width=400)"
   ]
  },
  {
   "cell_type": "markdown",
   "metadata": {},
   "source": [
    "## Text overlays\n",
    "\n",
    "To create a movie, you need to add a dialogue (unless you want to do a silent movie). This is an example of how to do mutli-line text on an opaque background over a picture:"
   ]
  },
  {
   "cell_type": "code",
   "execution_count": null,
   "metadata": {},
   "outputs": [],
   "source": [
    "from PIL import Image as pili, ImageDraw as pild, ImageFont as pilf \n",
    "\n",
    "caption = \"\"\"Captain America:\n",
    "Avengers: assemble!\n",
    "Some people move on, but not us.\n",
    "Cos if that's not gonna work, I don't know what is\"\"\"\n",
    "\n",
    "TINT_COLOR = (0, 0, 0)  # Black\n",
    "TRANSPARENCY = .25  # Degree of transparency, 0-100%\n",
    "OPACITY = int(255 * TRANSPARENCY)\n",
    "\n",
    "from PIL import Image, ImageFont, ImageDraw\n",
    "\n",
    "img = pili.open('toons/avengers/dims2.jpg').convert('RGBA')\n",
    "\n",
    "overlay = pili.new('RGBA', img.size, TINT_COLOR+(0,))\n",
    "draw = pild.Draw(overlay)\n",
    "font = pilf.truetype(\"arial.ttf\", 66)\n",
    "#x, y = (img.width - 510, img.height-100)\n",
    "text = caption\n",
    "w, h = font.getsize(text)\n",
    "num_lines = len(text.split('\\n'))\n",
    "print(num_lines, w, h)\n",
    "x, y = 100, img.height - (num_lines-0.1*num_lines)*h\n",
    "#draw.rectangle((x, y, x + w, y + h), fill='black')\n",
    "#draw.rectangle((x, y, x + w, y + 4*h), fill=TINT_COLOR+(OPACITY,))\n",
    "draw.rectangle((x, y, x + img.width - 200, y + (num_lines-0.1*num_lines)*h), fill=TINT_COLOR+(OPACITY,))\n",
    "draw.text((x, y), text, fill=(209, 239, 8), font=font)\n",
    "\n",
    "# Alpha composite these two images together to obtain the desired result.\n",
    "img = pili.alpha_composite(img, overlay)\n",
    "img = img.convert(\"RGB\") # Remove alpha for saving in jpg format.\n",
    "\n",
    "img.save('toons/avengers/dims3.jpg')"
   ]
  },
  {
   "cell_type": "code",
   "execution_count": null,
   "metadata": {
    "scrolled": true
   },
   "outputs": [],
   "source": [
    "from IPython.display import Image\n",
    "Image(filename='toons/avengers/dims3.jpg', width=400)"
   ]
  },
  {
   "cell_type": "markdown",
   "metadata": {},
   "source": [
    "## Reading dialog file with pandas\n",
    "\n",
    "Producing the cartoon in two languages becomes easier if you store the dialogue in a csv file and you use google translate. Here, we use the `pandas` library to read a dialog script from a csv file, just like in Hollywood!"
   ]
  },
  {
   "cell_type": "code",
   "execution_count": null,
   "metadata": {},
   "outputs": [],
   "source": [
    "import pandas as pd\n",
    "data = pd.read_csv('toons/avengers/dialog.csv')\n",
    "data.head(10)"
   ]
  },
  {
   "cell_type": "code",
   "execution_count": null,
   "metadata": {},
   "outputs": [],
   "source": [
    "import numpy as np\n",
    "data.values[2][0]"
   ]
  },
  {
   "cell_type": "markdown",
   "metadata": {},
   "source": [
    "# Unicode fonts\n",
    "\n",
    "You either have to look for preinstalled truetype fonts that support your language, or you have to download the fonts to support your language (e.g. google's [noto](https://www.google.com/get/noto/) fonts). Otherwise, all you'll see as text on your image is just a bunch of tofu. No kidding, *tofu* is what these characters below are called:\n",
    "\n",
    "<br />\n",
    "<center>\n",
    "<img src=\"toons/avengers/tofu.jpg\" width=400 />\n",
    "</center>\n",
    "\n",
    "Also, do not forget the `u` in front of the text!\n",
    "\n",
    "Here's an example:"
   ]
  },
  {
   "cell_type": "code",
   "execution_count": null,
   "metadata": {},
   "outputs": [],
   "source": [
    "from PIL import Image, ImageDraw, ImageFont, ImageFilter\n",
    "\n",
    "#configuration\n",
    "font_size=36\n",
    "width=500\n",
    "height=100\n",
    "back_ground_color=(255,255,255)\n",
    "font_size=36\n",
    "font_color=(0,0,0)\n",
    "unicode_text = u\"जो भी तुमसे लग जाय लगा लेना!\"\n",
    "\n",
    "im  =  Image.new ( \"RGB\", (width,height), back_ground_color )\n",
    "draw  =  ImageDraw.Draw ( im )\n",
    "#unicode_font = ImageFont.truetype(\"DENGL.ttf\", font_size)\n",
    "unicode_font = ImageFont.truetype(\"c:/windows/fonts/nirmalas.ttf\", font_size)\n",
    "draw.text ( (10,10), unicode_text, font=unicode_font, fill=font_color )\n",
    "\n",
    "im.save(\"toons/hindi.jpg\")"
   ]
  },
  {
   "cell_type": "code",
   "execution_count": null,
   "metadata": {},
   "outputs": [],
   "source": [
    "from IPython.display import Image\n",
    "Image(filename='toons/hindi.jpg', width=400)"
   ]
  },
  {
   "cell_type": "code",
   "execution_count": null,
   "metadata": {},
   "outputs": [],
   "source": [
    "from PIL import Image, ImageDraw, ImageFont, ImageFilter\n",
    "\n",
    "#configuration\n",
    "font_size=36\n",
    "width=500\n",
    "height=100\n",
    "back_ground_color=(255,255,255)\n",
    "font_size=36\n",
    "font_color=(0,0,0)\n",
    "unicode_text = u\"白毛浮绿水，红掌拨清波\"\n",
    "\n",
    "im  =  Image.new ( \"RGB\", (width,height), back_ground_color )\n",
    "draw  =  ImageDraw.Draw ( im )\n",
    "#unicode_font = ImageFont.truetype(\"DENGL.ttf\", font_size)\n",
    "unicode_font = ImageFont.truetype(\"c:/windows/fonts/dengl.ttf\", font_size)\n",
    "draw.text ( (10,10), unicode_text, font=unicode_font, fill=font_color )\n",
    "\n",
    "im.save(\"toons/zhongwen2.jpg\")"
   ]
  },
  {
   "cell_type": "code",
   "execution_count": null,
   "metadata": {},
   "outputs": [],
   "source": [
    "from IPython.display import Image\n",
    "Image(filename='toons/zhongwen2.jpg', width=400)"
   ]
  },
  {
   "cell_type": "code",
   "execution_count": null,
   "metadata": {},
   "outputs": [],
   "source": [
    "from PIL import Image as pili, ImageDraw as pild, ImageFont as pilf \n",
    "\n",
    "caption = u\"\"\"子曰：「學而時習之，不亦說乎？有朋自遠方來，\n",
    "不亦樂乎？人不知而不慍，不亦君子乎？\"\"\"\n",
    "\n",
    "TINT_COLOR = (0, 0, 0)  # Black\n",
    "TRANSPARENCY = .25  # Degree of transparency, 0-100%\n",
    "OPACITY = int(255 * TRANSPARENCY)\n",
    "\n",
    "from PIL import Image, ImageFont, ImageDraw\n",
    "\n",
    "img = pili.open('toons/avengers/dims2.jpg').convert('RGBA')\n",
    "\n",
    "overlay = pili.new('RGBA', img.size, TINT_COLOR+(0,))\n",
    "draw = pild.Draw(overlay)\n",
    "font = pilf.truetype(\"c:/windows/fonts/dengl.ttf\", 66)\n",
    "\n",
    "#a=u\"ひらがな - Hiragana, 히라가나\"\n",
    "#font=ImageFont.truetype(\"Arial Unicode.ttf\", 66)\n",
    "\n",
    "#x, y = (img.width - 510, img.height-100)\n",
    "text = caption\n",
    "w, h = font.getsize(text)\n",
    "num_lines = len(text.split('\\n'))\n",
    "print(num_lines, w, h)\n",
    "x, y = 100, img.height - (num_lines-0.1*num_lines)*h\n",
    "#draw.rectangle((x, y, x + w, y + h), fill='black')\n",
    "#draw.rectangle((x, y, x + w, y + 4*h), fill=TINT_COLOR+(OPACITY,))\n",
    "draw.rectangle((x, y, x + img.width - 200, y + (num_lines-0.1*num_lines)*h), fill=TINT_COLOR+(OPACITY,))\n",
    "draw.text((x, y), text, fill=(209, 239, 8), font=font)\n",
    "\n",
    "\n",
    "# Alpha composite these two images together to obtain the desired result.\n",
    "img = pili.alpha_composite(img, overlay)\n",
    "img = img.convert(\"RGB\") # Remove alpha for saving in jpg format.\n",
    "\n",
    "img.save('toons/avengers/dims6.jpg')"
   ]
  },
  {
   "cell_type": "code",
   "execution_count": null,
   "metadata": {},
   "outputs": [],
   "source": [
    "from IPython.display import Image\n",
    "Image(filename='toons/avengers/dims6.jpg', width=400)"
   ]
  },
  {
   "cell_type": "markdown",
   "metadata": {},
   "source": [
    "## Horizontal strip\n",
    "\n",
    "This is how to stitch images *horizontally*:"
   ]
  },
  {
   "cell_type": "code",
   "execution_count": null,
   "metadata": {},
   "outputs": [],
   "source": [
    "import numpy as np\n",
    "import PIL\n",
    "\n",
    "list_im = ['toons/miyazaki/spirited away/chihiro_parents.png',\n",
    "            'toons/monkey-king/Monkey_King.png',\n",
    "            'toons/jungle-book/_104680082_junglebook.jpg',\n",
    "            'toons/avengers/dims.jpg']\n",
    "imgs    = [ PIL.Image.open(i) for i in list_im ]\n",
    "\n",
    "# pick the image which is the smallest, and resize the others to match it (can be arbitrary image shape here)\n",
    "min_shape = sorted( [(np.sum(i.size), i.size ) for i in imgs])[0][1]\n",
    "imgs_comb = np.hstack( (np.asarray( i.resize(min_shape) ) for i in imgs ) )\n",
    "\n",
    "# save that beautiful picture\n",
    "imgs_comb = PIL.Image.fromarray( imgs_comb)\n",
    "imgs_comb.save( 'toons/avengers/dims4.png' )    "
   ]
  },
  {
   "cell_type": "code",
   "execution_count": null,
   "metadata": {},
   "outputs": [],
   "source": [
    "from IPython.display import Image\n",
    "Image(filename='toons/avengers/dims4.png', width=400)"
   ]
  },
  {
   "cell_type": "markdown",
   "metadata": {},
   "source": [
    "*Don't forget to add the white border!*\n",
    "\n",
    "## Vertical strip\n",
    "\n",
    "This is how to stitch images *vertically*:"
   ]
  },
  {
   "cell_type": "code",
   "execution_count": null,
   "metadata": {},
   "outputs": [],
   "source": [
    "list_im = ['toons/miyazaki/spirited away/chihiro_parents.png',\n",
    "            'toons/monkey-king/Monkey_King.png',\n",
    "            'toons/jungle-book/_104680082_junglebook.jpg',\n",
    "            'toons/avengers/dims.jpg']\n",
    "imgs    = [ PIL.Image.open(i) for i in list_im ]\n",
    "\n",
    "# pick the image which is the smallest, and resize the others to match it (can be arbitrary image shape here)\n",
    "min_shape = sorted( [(np.sum(i.size), i.size ) for i in imgs])[0][1]\n",
    "imgs_comb = np.vstack( (np.asarray( i.resize(min_shape) ) for i in imgs ) )\n",
    "\n",
    "# save that beautiful picture\n",
    "imgs_comb = PIL.Image.fromarray( imgs_comb)\n",
    "imgs_comb.save( 'toons/avengers/dims5.png' ) "
   ]
  },
  {
   "cell_type": "code",
   "execution_count": null,
   "metadata": {},
   "outputs": [],
   "source": [
    "from IPython.display import Image\n",
    "Image(filename='toons/avengers/dims5.png', width=200)"
   ]
  },
  {
   "cell_type": "markdown",
   "metadata": {},
   "source": [
    ">Note: Don't forget the white (or other color) border between each picture!\n",
    "\n",
    "## From images to pdfs\n",
    "\n",
    "This is how to create a pdf from image pages:\n",
    "```(python)\n",
    "pip install fpdf\n",
    "```"
   ]
  },
  {
   "cell_type": "code",
   "execution_count": null,
   "metadata": {},
   "outputs": [],
   "source": [
    "from PIL import Image\n",
    "from fpdf import FPDF\n",
    "\n",
    "#pdf = FPDF()\n",
    "cover = Image.open('toons/jungle-book/_104680082_junglebook.jpg')\n",
    "width, height = cover.size\n",
    "pdf = FPDF(unit = \"pt\", format = [width, height])\n",
    "    \n",
    "# imagelist is the list with all image filenames\n",
    "imagelist = ['toons/avengers/dims5.png', \n",
    "             'toons/avengers/dims5.png', \n",
    "             'toons/avengers/dims5.png', \n",
    "             'toons/avengers/dims5.png']\n",
    "\n",
    "for image in imagelist:\n",
    "    pdf.add_page()\n",
    "    pdf.image(image, 0, 0, width, height)\n",
    "pdf.output(\"toons/avengers/avengers.pdf\", \"F\")\n",
    "print(\"done!\")"
   ]
  },
  {
   "cell_type": "markdown",
   "metadata": {},
   "source": [
    "## Page with random number of images per line (from 3 to 5)\n",
    "\n",
    "Storybooks look a lot neater with a different number of pictures per horizontal strip.\n",
    "\n",
    "Careful... *this is **advanced** python-fu!* programming here below..."
   ]
  },
  {
   "cell_type": "code",
   "execution_count": null,
   "metadata": {},
   "outputs": [],
   "source": [
    "list_im = [str(x) for x in range(100)]\n",
    "   \n",
    "while 0 < len(list_im):\n",
    "    lines = 0\n",
    "    print(\"new page!\")\n",
    "    num_cols = old_num_cols = 0\n",
    "    while lines < 6 and 0 < len(list_im):\n",
    "        lines += 1\n",
    "        while num_cols == old_num_cols:\n",
    "            num_cols = np.random.randint(3, 6)\n",
    "        old_num_cols = num_cols\n",
    "        window = list_im[:num_cols]\n",
    "        print(window)\n",
    "        list_im = list_im[num_cols:]"
   ]
  },
  {
   "cell_type": "code",
   "execution_count": null,
   "metadata": {},
   "outputs": [],
   "source": [
    "from os import listdir\n",
    "from os.path import isfile, join\n",
    "\n",
    "mypath = 'toons/avengers/'\n",
    "onlyfiles = [f for f in listdir(mypath) if isfile(join(mypath, f))]\n",
    "\n",
    "lines = 0\n",
    "print(\"new page!\")\n",
    "num_cols = old_num_cols = 0\n",
    "while lines < 6 and 0 < len(onlyfiles):\n",
    "    lines += 1\n",
    "    while num_cols == old_num_cols:\n",
    "        num_cols = np.random.randint(3, 6)\n",
    "    old_num_cols = num_cols\n",
    "    window = onlyfiles[:num_cols]\n",
    "    print(window)   \n",
    "    onlyfiles = onlyfiles[num_cols:]"
   ]
  },
  {
   "cell_type": "markdown",
   "metadata": {},
   "source": [
    "What does a good cartoon page look like? Here is one example I worked on:"
   ]
  },
  {
   "cell_type": "code",
   "execution_count": null,
   "metadata": {},
   "outputs": [],
   "source": [
    "from IPython.display import Image\n",
    "Image(filename='toons/bund-dino.png', width=400)"
   ]
  },
  {
   "cell_type": "markdown",
   "metadata": {},
   "source": [
    "# From photo to drawing\n",
    "\n",
    "How do we take a photograph and turn it into a drawing? Here's a photo of me with my bike on a trip:"
   ]
  },
  {
   "cell_type": "code",
   "execution_count": null,
   "metadata": {},
   "outputs": [],
   "source": [
    "from PIL import Image\n",
    "import cv2 \n",
    "from IPython.display import display\n",
    "\n",
    "# with the OpenCV function imread(), the order of colors is BGR (blue, green, red)\n",
    "img = cv2.imread('toons/dino/P1250231.jpg')\n",
    "\n",
    "# In Pillow, the order of colors is assumed to be RGB (red, green, blue).\n",
    "# As we are using Image.fromarray() of PIL module, we need to convert BGR to RGB.\n",
    "img = cv2.cvtColor(img, cv2.COLOR_BGR2RGB) # Converting BGR to RGB\n",
    "\n",
    "display(Image.fromarray(img))"
   ]
  },
  {
   "cell_type": "markdown",
   "metadata": {},
   "source": [
    "Here, I write a function to use `PIL` to resize the image (`cv2.resize()`) and display the result:"
   ]
  },
  {
   "cell_type": "code",
   "execution_count": null,
   "metadata": {},
   "outputs": [],
   "source": [
    "from PIL import Image\n",
    "import cv2 \n",
    "from IPython.display import display\n",
    "\n",
    "def imgcompress(path_in, path_out, k):\n",
    "    img = cv2.imread(path_in, cv2.IMREAD_UNCHANGED)\n",
    "\n",
    "    # set the ratio of resized image\n",
    "    width = int((img.shape[1])/k)\n",
    "    height = int((img.shape[0])/k)\n",
    "\n",
    "    # resize the image by resize() function of openCV library\n",
    "    scaled = cv2.resize(img, (width, height), interpolation=cv2.INTER_AREA)\n",
    "\n",
    "    # get the resized image output by imwrite() function of openCV library\n",
    "    cv2.imwrite(path_out, scaled)\n",
    "    \n",
    "    # display result\n",
    "    imgc = cv2.imread(path_out, cv2.IMREAD_UNCHANGED)\n",
    "    imgc_pil = cv2.cvtColor(imgc, cv2.COLOR_BGR2RGB) # Converting BGR to RGB\n",
    "    display(Image.fromarray(imgc_pil))"
   ]
  },
  {
   "cell_type": "markdown",
   "metadata": {},
   "source": [
    "Here I do the same thing without actually saving the picture:"
   ]
  },
  {
   "cell_type": "code",
   "execution_count": null,
   "metadata": {},
   "outputs": [],
   "source": [
    "def imgcompress_mem(path_in, k):\n",
    "    img = cv2.imread(path_in, cv2.IMREAD_UNCHANGED)\n",
    "\n",
    "    # set the ratio of resized image\n",
    "    width = int((img.shape[1])/k)\n",
    "    height = int((img.shape[0])/k)\n",
    "\n",
    "    # resize the image by resize() function of openCV library\n",
    "    return cv2.resize(img, (width, height), interpolation=cv2.INTER_AREA)"
   ]
  },
  {
   "cell_type": "markdown",
   "metadata": {},
   "source": [
    "A drawing is made by drawing the shapes in a picture, and then adding the colors, right? So, let's detect the shapes in the picture, and then superimpose the picture on top of the shapes!\n",
    "\n",
    "But reality has a bit too many shapes, so we need to remove some of them. How? By blurring the picture!\n",
    "\n",
    "First, let's use `cv2.cvtColor()` to convert the image to greyscale:"
   ]
  },
  {
   "cell_type": "code",
   "execution_count": null,
   "metadata": {},
   "outputs": [],
   "source": [
    "img = cv2.imread('toons/dino/P1250231.jpg', cv2.IMREAD_UNCHANGED)\n",
    "img_pil = cv2.cvtColor(img, cv2.COLOR_BGR2RGB) # Converting BGR to RGB\n",
    "\n",
    "gray = cv2.cvtColor(img, cv2.COLOR_BGR2GRAY)\n",
    "\n",
    "gray_pil = cv2.cvtColor(gray, cv2.COLOR_BGR2RGB) # Converting BGR to RGB\n",
    "display(Image.fromarray(gray_pil))"
   ]
  },
  {
   "cell_type": "markdown",
   "metadata": {},
   "source": [
    "Then let's use `cv2.medianBlur()` to blur the greyscale in order to remove details that are too fine (we need to trim the complexity of reality in order to create drawings!):"
   ]
  },
  {
   "cell_type": "code",
   "execution_count": null,
   "metadata": {},
   "outputs": [],
   "source": [
    "gray_blur = cv2.medianBlur(gray, 33)\n",
    "\n",
    "gray_blur_pil = cv2.cvtColor(gray_blur, cv2.COLOR_BGR2RGB) # Converting BGR to RGB\n",
    "display(Image.fromarray(gray_blur_pil))"
   ]
  },
  {
   "cell_type": "markdown",
   "metadata": {},
   "source": [
    "Oopsie, that was a little too much blurring. Let's try again:"
   ]
  },
  {
   "cell_type": "code",
   "execution_count": null,
   "metadata": {},
   "outputs": [],
   "source": [
    "gray_blur = cv2.medianBlur(gray, 7)\n",
    "gray_blur_pil = cv2.cvtColor(gray_blur, cv2.COLOR_BGR2RGB) # Converting BGR to RGB\n",
    "display(Image.fromarray(gray_blur_pil))"
   ]
  },
  {
   "cell_type": "markdown",
   "metadata": {},
   "source": [
    "Ok, better! Now,  let's use `cv2.adaptiveThreshold()` to detect the edges of the shapes in the image:"
   ]
  },
  {
   "cell_type": "code",
   "execution_count": null,
   "metadata": {},
   "outputs": [],
   "source": [
    "bigedges = cv2.adaptiveThreshold(gray_blur, 255, cv2.ADAPTIVE_THRESH_MEAN_C, cv2.THRESH_BINARY, 43, 7)\n",
    "bigedges_pil = cv2.cvtColor(bigedges, cv2.COLOR_BGR2RGB) # Converting BGR to RGB\n",
    "display(Image.fromarray(bigedges_pil))"
   ]
  },
  {
   "cell_type": "markdown",
   "metadata": {},
   "source": [
    "And now let's use `cv2.bitwise_and()` to **bitblt** (superimpose) the original image with its edges:"
   ]
  },
  {
   "cell_type": "code",
   "execution_count": null,
   "metadata": {},
   "outputs": [],
   "source": [
    "cartoon = cv2.bitwise_and(img, img, mask=bigedges)\n",
    "cartoon_pil = cv2.cvtColor(cartoon, cv2.COLOR_BGR2RGB) # Converting BGR to RGB\n",
    "display(Image.fromarray(cartoon_pil))"
   ]
  },
  {
   "cell_type": "markdown",
   "metadata": {},
   "source": [
    "...and *that's* a drawing!\n",
    "\n",
    "Here, I write functions: I use `cv2.cvtColor()` to convert to greyscale, then `cv2.medianBlur()` to blur the greyscale in order to remove details that are too fine, then `cv2.adaptiveThreshold()` to detect the edges of the shapes in the image, then `cv2.bitwise_and()` to **bitblt** (superimpose) the original image with its edges:"
   ]
  },
  {
   "cell_type": "code",
   "execution_count": null,
   "metadata": {},
   "outputs": [],
   "source": [
    "def cartoonize(path_in, path_out, k):\n",
    "    \n",
    "    imgcompress(path_in, path_out, k)\n",
    "    imgc = cv2.imread(path_out, cv2.IMREAD_UNCHANGED)\n",
    "    imgc_pil = cv2.cvtColor(imgc, cv2.COLOR_BGR2RGB) # Converting BGR to RGB\n",
    "\n",
    "    line_size = 3\n",
    "    blur_value = 7\n",
    "    gray = cv2.cvtColor(imgc, cv2.COLOR_BGR2GRAY)\n",
    "    gray_blur = cv2.medianBlur(gray, blur_value)\n",
    "    bigedges = cv2.adaptiveThreshold(gray_blur, 255, cv2.ADAPTIVE_THRESH_MEAN_C, cv2.THRESH_BINARY, line_size, blur_value)\n",
    "    bigedges_pil = cv2.cvtColor(bigedges, cv2.COLOR_BGR2RGB) # Converting BGR to RGB\n",
    "\n",
    "    cartoon = cv2.bitwise_and(imgc, imgc, mask=bigedges)\n",
    "    cartoon_pil = cv2.cvtColor(cartoon, cv2.COLOR_BGR2RGB) # Converting BGR to RGB\n",
    "    display(Image.fromarray(cartoon_pil))"
   ]
  },
  {
   "cell_type": "markdown",
   "metadata": {},
   "source": [
    "Here I also control the blur amount and the width of the borders of the shapes in the image, with the `blur` and `line` parameters:"
   ]
  },
  {
   "cell_type": "code",
   "execution_count": null,
   "metadata": {},
   "outputs": [],
   "source": [
    "# Controls blur amount and line size\n",
    "def cartoonizebl_mem(path_in, k, blur, line):\n",
    "    \n",
    "    imgc = imgcompress_mem(path_in, k)\n",
    "    #imgc_pil = cv2.cvtColor(imgc, cv2.COLOR_BGR2RGB) # Converting BGR to RGB\n",
    "    #display(Image.fromarray(imgc_pil))\n",
    "\n",
    "    line_size = line\n",
    "    blur_value = blur\n",
    "    #imgc = cv2.imread(path_out, cv2.IMREAD_UNCHANGED)\n",
    "    gray = cv2.cvtColor(imgc, cv2.COLOR_BGR2GRAY)\n",
    "    gray_blur = cv2.medianBlur(gray, blur_value)\n",
    "    bigedges = cv2.adaptiveThreshold(gray_blur, 255, cv2.ADAPTIVE_THRESH_MEAN_C, cv2.THRESH_BINARY, line_size, blur_value)\n",
    "    bigedges_pil = cv2.cvtColor(bigedges, cv2.COLOR_BGR2RGB) # Converting BGR to RGB\n",
    "    #display(Image.fromarray(bigedges_pil))\n",
    "\n",
    "    return cv2.bitwise_and(imgc, imgc, mask=bigedges)"
   ]
  },
  {
   "cell_type": "markdown",
   "metadata": {},
   "source": [
    "And now I put all of this together to create art from pictures, with different amounts of blur and shape border widths:"
   ]
  },
  {
   "cell_type": "code",
   "execution_count": null,
   "metadata": {},
   "outputs": [],
   "source": [
    "cblimg = cartoonizebl_mem('toons/dino/P1250231.jpg', 1, 5, 13)\n",
    "cblimg_pil = cv2.cvtColor(cblimg, cv2.COLOR_BGR2RGB) # Converting BGR to RGB\n",
    "display(Image.fromarray(cblimg_pil))"
   ]
  },
  {
   "cell_type": "code",
   "execution_count": null,
   "metadata": {},
   "outputs": [],
   "source": [
    "cblimg = cartoonizebl_mem('toons/dino/P1250231.jpg', 4, 7, 9)\n",
    "cblimg_pil = cv2.cvtColor(cblimg, cv2.COLOR_BGR2RGB) # Converting BGR to RGB\n",
    "display(Image.fromarray(cblimg_pil))"
   ]
  },
  {
   "cell_type": "code",
   "execution_count": null,
   "metadata": {},
   "outputs": [],
   "source": [
    "cblimg = cartoonizebl_mem('ipynb.images/P1250231.jpg', 8, 5, 5)\n",
    "cblimg_pil = cv2.cvtColor(cblimg, cv2.COLOR_BGR2RGB) # Converting BGR to RGB\n",
    "display(Image.fromarray(cblimg_pil))"
   ]
  },
  {
   "cell_type": "code",
   "execution_count": null,
   "metadata": {},
   "outputs": [],
   "source": [
    "cblimg = cartoonizebl_mem('ipynb.images/P1250231.jpg', 12, 5, 5)\n",
    "cblimg_pil = cv2.cvtColor(cblimg, cv2.COLOR_BGR2RGB) # Converting BGR to RGB\n",
    "display(Image.fromarray(cblimg_pil))"
   ]
  },
  {
   "cell_type": "code",
   "execution_count": null,
   "metadata": {},
   "outputs": [],
   "source": [
    "cblimg = cartoonizebl_mem('ipynb.images/P1250231.jpg', 16, 3, 3)\n",
    "cblimg_pil = cv2.cvtColor(cblimg, cv2.COLOR_BGR2RGB) # Converting BGR to RGB\n",
    "display(Image.fromarray(cblimg_pil))"
   ]
  },
  {
   "cell_type": "markdown",
   "metadata": {},
   "source": [
    "You can leverage these code examples to create the drawings for *your* storybook and modify parameters to suit your own creative ideas.\n",
    "\n",
    "If you find better software to do the same thing, then as long as there is a python library for it, you can use it!"
   ]
  },
  {
   "cell_type": "markdown",
   "metadata": {},
   "source": [
    "# Cartoon with text\n",
    "Here's an example of how to *programmatically* add multi-line text to the image:"
   ]
  },
  {
   "cell_type": "code",
   "execution_count": null,
   "metadata": {},
   "outputs": [],
   "source": [
    "import numpy as np\n",
    "import pandas as pd\n",
    "from fpdf import FPDF\n",
    "from PIL import Image as pili, ImageDraw as pild, ImageFont as pilf, ImageOps as piliops\n",
    "\n",
    "TINT_COLOR = (0, 0, 0)  # Black\n",
    "OPACITY = int(255 * .50)\n",
    "FONT = pilf.truetype(\"Inkfree.ttf\", 24) # Font\n",
    "IMG_BASE_WIDTH = 600\n",
    "IMG_NUMBERS = 47\n",
    "\n",
    "def convert_from_cv2_to_image(img: np.ndarray) -> pili:\n",
    "    return Image.fromarray(cv2.cvtColor(img, cv2.COLOR_BGR2RGB))\n",
    "    #return pili.fromarray(img)\n",
    "\n",
    "def convert_from_image_to_cv2(img: pili) -> np.ndarray:\n",
    "    return cv2.cvtColor(np.array(img), cv2.COLOR_RGB2BGR)\n",
    "    #return np.asarray(img)"
   ]
  },
  {
   "cell_type": "code",
   "execution_count": null,
   "metadata": {},
   "outputs": [],
   "source": [
    "# Controls blur amount and line size and number of text lines. No bold font!\n",
    "def cartoonizeblt_mem_nb(path_in, k, blur, line, text, nlines=1, font='verdana'):\n",
    "    \n",
    "    print(path_in)\n",
    "    imgc = imgcompress_mem(path_in, k)\n",
    "\n",
    "    line_size = line\n",
    "    blur_value = blur\n",
    "    gray = cv2.cvtColor(imgc, cv2.COLOR_BGR2GRAY)\n",
    "    gray_blur = cv2.medianBlur(gray, blur_value)\n",
    "    bigedges = cv2.adaptiveThreshold(gray_blur, 255, cv2.ADAPTIVE_THRESH_MEAN_C, cv2.THRESH_BINARY, line_size, blur_value)\n",
    "    bigedges_pil = cv2.cvtColor(bigedges, cv2.COLOR_BGR2RGB) # Converting BGR to RGB\n",
    "\n",
    "    toon = cv2.bitwise_and(imgc, imgc, mask=bigedges)\n",
    "    if 0 == len(text):\n",
    "        return toon\n",
    "    \n",
    "    print('Using font ' + font + '...')\n",
    "    myfont = (\n",
    "        pilf.truetype(\"ITCKRIST.TTF\", \n",
    "            24 if k == 16 else 18 if k == 14 else 18 if k == 12 else 20 if k == 8 else 82) if font=='ITCKRIST'\n",
    "        else\n",
    "            pilf.truetype(\"Inkfree.ttf\", \n",
    "                24 if k == 16 else 18 if k == 14 else 18 if k == 12 else 20 if k == 8 else 82) if font=='Inkfree'\n",
    "        else\n",
    "            pilf.truetype(font + \".ttf\", 24 if k == 16 else 18 if k == 14 else 18 if k == 12 else 20 if k == 8 else 82)\n",
    "    )\n",
    "\n",
    "\n",
    "    cblimg_pil = Image.fromarray(cv2.cvtColor(toon, cv2.COLOR_BGR2RGBA))\n",
    "\n",
    "    overlay = pili.new('RGBA', cblimg_pil.size, TINT_COLOR+(0,))\n",
    "    draw = pild.Draw(overlay)\n",
    "    #_, h = FONT.getsize(text)\n",
    "    _, h = myfont.getsize(text)\n",
    "    num_lines = nlines\n",
    "    x, y = 0, cblimg_pil.height - (num_lines)*h-10\n",
    "    draw.rectangle((x, y, x + cblimg_pil.width, y + (num_lines)*h+10), fill=TINT_COLOR+(OPACITY,))\n",
    "    if k == 1:\n",
    "        draw.text((x+10, y), text, fill=(248,248,248), font=myfont) #, stroke_width=1)\n",
    "    elif k < 8:\n",
    "        draw.text((x+10, y), text, fill=(248,248,248), font=myfont)\n",
    "    else:\n",
    "        draw.text((x+10, y), text, fill=(248,248,248), font=myfont) #, stroke_width=1)\n",
    "\n",
    "    cblimg_pil = pili.alpha_composite(cblimg_pil, overlay)\n",
    "    cblimg_pil = cblimg_pil.convert(\"RGB\")\n",
    "\n",
    "    return convert_from_image_to_cv2(cblimg_pil)"
   ]
  },
  {
   "cell_type": "code",
   "execution_count": null,
   "metadata": {},
   "outputs": [],
   "source": [
    "cbltimg = cartoonizeblt_mem_nb('ipynb.images/P1250231.jpg', 4, 9, 11, 'hello \\nworld', nlines=2, \n",
    "                            font='arial')\n",
    "cbltimg_pil = cv2.cvtColor(cbltimg, cv2.COLOR_BGR2RGB) # Converting BGR to RGB\n",
    "display(pili.fromarray(cbltimg_pil))\n",
    "cbltimg_pil.shape"
   ]
  },
  {
   "cell_type": "markdown",
   "metadata": {},
   "source": [
    "# Producing a storybook strip\n",
    "Here's an example of how to use the `zipper` and **list comprehensions** in order to work with, not a single image, but *many images at the same time*! I told you that is what programming is all about, so we are programming a lot here below!"
   ]
  },
  {
   "cell_type": "code",
   "execution_count": null,
   "metadata": {},
   "outputs": [],
   "source": [
    "def simple_row(folder, list_im, list_opt, list_txt, list_nlines, font='arial'):\n",
    "    \n",
    "    # cartoonize them in memory with text\n",
    "    cimgs = [ cartoonizeblt_mem_nb(folder + '/' + i + '.jpg', 14, 3, 3, k, nlines=n, font=font)\n",
    "              for i,j,k,n in zip(list_im, list_opt, list_txt, list_nlines) ]\n",
    "    \n",
    "    # resize\n",
    "    heighto = int(cimgs[0].shape[0])\n",
    "    widtho = int(cimgs[0].shape[1])\n",
    "    # heighto / widtho = height / width ==> height = heighto / widtho * width\n",
    "    width = 245\n",
    "    height = int(heighto / widtho * width)\n",
    "    cimgs_dim = (width, height)\n",
    "    cimgsr = [ cv2.resize(cimgs[i], cimgs_dim, interpolation = cv2.INTER_AREA) for i in range(4)]\n",
    "\n",
    "    # add borders\n",
    "    white = [255,255,255]\n",
    "    bcimgs = [ cv2.copyMakeBorder(i, 5, 5, 5, 5, cv2.BORDER_CONSTANT, value=white) for i in cimgsr ]\n",
    "\n",
    "    # stack them horizontally\n",
    "    return np.concatenate([ bcimgs[i] for i in range(0,len(list_im)) ], axis=1)"
   ]
  },
  {
   "cell_type": "markdown",
   "metadata": {},
   "source": [
    "Here I create a horizontal strip from pictures from my bike trip:"
   ]
  },
  {
   "cell_type": "code",
   "execution_count": null,
   "metadata": {},
   "outputs": [],
   "source": [
    "rows4 = simple_row (\n",
    "        'toons/dino', \n",
    "         ['P1250231', 'P1250242', 'P1250252', 'P1250255'],\n",
    "         ['pencil', 'pencil', 'buildings', 'buildings'],\n",
    "         ['Me and my bike', 'The road', '', 'The lights are on!'],\n",
    "         [1, 1, 1, 1]\n",
    "        )\n",
    "rows4_pil = cv2.cvtColor(rows4, cv2.COLOR_BGR2RGB) # Converting BGR to RGB\n",
    "display(Image.fromarray(rows4_pil))\n",
    "rows4_pil.shape"
   ]
  },
  {
   "cell_type": "markdown",
   "metadata": {},
   "source": [
    "# Your storybook\n",
    "Now you are ready to create a storybook from action pictures you take. There will be a few coding challenges, such as making sure that the horizontal size of each horizontal strip that you stack as a vertical strip is the ***same size***. But that is how we learn a language, by working with it the entire weekend non-stop! After you finish this homework, you will dream in Python!\n",
    "\n",
    "You may add your own code but you now need to write a **story**, **act** in it with your team and/or friends, **take** photos, convert the photographs to **drawings**, **stage** all the pictures, add the **dialogue**, and **direct** all the material into a **storybook**. All in python! No java and no cut and paste! That's a lot of work!\n",
    "\n",
    "You have a week to do all the work, so you need to start ***tonite***!"
   ]
  },
  {
   "cell_type": "markdown",
   "metadata": {},
   "source": [
    "# Oscar ceremony\n",
    "We will hold an Oscar award ceremony the week after next week (so the TAs and I can judge your storybooks).\n",
    "\n",
    "If you win an Oscar, you need to prepare a speech. You know, something along the lines of:\n",
    "\n",
    ">**OSCAR SPEECH**: *I would like to thank my mum and my dad for having me, such a child prodigy, and I would like to thank god, too, for adding humility to my* ***endless*** *list of qualities. Also, my girl/boy friend for putting up with me while I work all weekend and nights with my team, doing my python homework for this crazy professor, etc, etc.*\n",
    "\n",
    "<br />\n",
    "<center>\n",
    "<img src=\"ipynb.images/oscars.png\" width=400 />\n",
    "</center>"
   ]
  }
 ],
 "metadata": {
  "kernelspec": {
   "display_name": "Python 3",
   "language": "python",
   "name": "python3"
  },
  "language_info": {
   "codemirror_mode": {
    "name": "ipython",
    "version": 3
   },
   "file_extension": ".py",
   "mimetype": "text/x-python",
   "name": "python",
   "nbconvert_exporter": "python",
   "pygments_lexer": "ipython3",
   "version": "3.7.4"
  }
 },
 "nbformat": 4,
 "nbformat_minor": 2
}
