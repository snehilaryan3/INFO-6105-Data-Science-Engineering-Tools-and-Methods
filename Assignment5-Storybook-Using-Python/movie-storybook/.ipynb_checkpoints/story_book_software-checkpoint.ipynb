{
 "cells": [
  {
   "cell_type": "markdown",
   "metadata": {},
   "source": [
    "# Story Book \n",
    "This notebook contains the script to generate the story book in english and hindi for the movie - \"It's Not what it is\". The story is inspired from Black Mirror episode \"White Christmas\". It is set in a dystopian future not so far from 2022. All the images used have been captured using an Iphone 12. \n",
    "\n",
    "Following methodology was followed to produce this story book:\n",
    "1. Create cartoon like images of captured images using the Function *cartoonizebl_mem*(Processed images are stored in folder cartoons)\n",
    "2. Add subtitles and border to the images using the function *add_subs*\n",
    "3. Create strips of images using the function *h_strip*(processed images are stored in the folder \"strips\")\n",
    "4. Generate pdf using the strips. (Final pdf is stored in the folder \"pdf\")\n",
    "\n",
    "ipynb.images folder has the 60 images used to tell the story and the subtitle file - *DialogEngHinnoncsv.xlsx*"
   ]
  },
  {
   "cell_type": "markdown",
   "metadata": {},
   "source": [
    "<h1>Creating Cartoon</h1>\n",
    "Funtion to resize the image according to the given factor\n"
   ]
  },
  {
   "cell_type": "code",
   "execution_count": 166,
   "metadata": {},
   "outputs": [],
   "source": [
    "import cv2\n",
    "from PIL import Image as pili, ImageOps as piliops\n",
    "from IPython.display import Image"
   ]
  },
  {
   "cell_type": "code",
   "execution_count": 167,
   "metadata": {},
   "outputs": [],
   "source": [
    "def imgcompress_mem(path_in, k):\n",
    "#    print(path_in)\n",
    "#    print(k)\n",
    "    img = cv2.imread(path_in, cv2.IMREAD_UNCHANGED)\n",
    "\n",
    "    # set the ratio of resized image\n",
    "    width = int((img.shape[1])/k)\n",
    "    height = int((img.shape[0])/k)\n",
    "\n",
    "    \n",
    "    return cv2.resize(img, (width, height), interpolation=cv2.INTER_AREA)"
   ]
  },
  {
   "cell_type": "markdown",
   "metadata": {},
   "source": [
    "Funtion to cartoonize the image using blurring and then adding colour to make it look like a hand sketch. "
   ]
  },
  {
   "cell_type": "code",
   "execution_count": 168,
   "metadata": {},
   "outputs": [],
   "source": [
    "def cartoonizebl_mem(path_in, k, blur, line):\n",
    "    \n",
    "    imgc = imgcompress_mem(path_in, k)\n",
    "    #imgc_pil = cv2.cvtColor(imgc, cv2.COLOR_BGR2RGB) # Converting BGR to RGB\n",
    "    #display(Image.fromarray(imgc_pil))\n",
    "\n",
    "    line_size = line\n",
    "    blur_value = blur\n",
    "    #imgc = cv2.imread(path_out, cv2.IMREAD_UNCHANGED)\n",
    "    gray = cv2.cvtColor(imgc, cv2.COLOR_BGR2GRAY)\n",
    "    gray_blur = cv2.medianBlur(gray, blur_value)\n",
    "    bigedges = cv2.adaptiveThreshold(gray_blur, 255, cv2.ADAPTIVE_THRESH_MEAN_C, cv2.THRESH_BINARY, line_size, blur_value)\n",
    "    bigedges_pil = cv2.cvtColor(bigedges, cv2.COLOR_BGR2RGB) # Converting BGR to RGB\n",
    "    #display(Image.fromarray(bigedges_pil))\n",
    "    cblimg = cv2.bitwise_and(imgc, imgc, mask=bigedges)\n",
    "    cblimg_pil = cv2.cvtColor(cblimg, cv2.COLOR_BGR2RGB)\n",
    "    pili.fromarray(cblimg_pil).save(\"cartoon/\" + path_in.rsplit('/', 1)[-1])\n",
    "    return pili.fromarray(cblimg_pil)"
   ]
  },
  {
   "cell_type": "markdown",
   "metadata": {},
   "source": [
    "Calling the cartoon image on all the images named Image[i].jpg for the ith image. "
   ]
  },
  {
   "cell_type": "code",
   "execution_count": 169,
   "metadata": {},
   "outputs": [],
   "source": [
    "num_images = 60\n",
    "for i in range (0, num_images):\n",
    "    cartoonizebl_mem('ipynb.images/Image[' + str(i+1) + '].jpg', 1, 5, 13)\n",
    "\n",
    "# Image(\"cartoon/Image[1].jpeg\") #for displaying the other one"
   ]
  },
  {
   "cell_type": "markdown",
   "metadata": {},
   "source": [
    "<h1>Adding Subtitle</h1>\n",
    "Funtion to add subtitles, border and sub title background. The processed images are stored in folder \"Images-With-Subs\" with the name filemname-border-subs and the files need to be in the cartoon folder. Only the file name needs to be passed. "
   ]
  },
  {
   "cell_type": "code",
   "execution_count": 170,
   "metadata": {},
   "outputs": [],
   "source": [
    "from PIL import ImageDraw as pild, ImageFont as pilf"
   ]
  },
  {
   "cell_type": "code",
   "execution_count": 171,
   "metadata": {},
   "outputs": [],
   "source": [
    "def add_subs(caption, filename, font_size, lang, alignment = \"Left\", color = \"Yellow\", color_border = \"white\", border = 50):\n",
    "    border = 100\n",
    "    TINT_COLOR = (0, 0, 0)  # Black\n",
    "    TRANSPARENCY = .25  # Degree of transparency, 0-100%\n",
    "    OPACITY = int(255 * TRANSPARENCY)\n",
    "\n",
    "    #from PIL import Image, ImageFont, ImageDraw\n",
    "\n",
    "    img = pili.open('cartoon/' + filename).convert('RGBA')\n",
    "\n",
    "    overlay = pili.new('RGBA', img.size, TINT_COLOR+(0,))\n",
    "    draw = pild.Draw(overlay)\n",
    "    if(lang == \"eng\"):\n",
    "        font = pilf.truetype(\"arial.ttf\", font_size)\n",
    "    if(lang == \"hin\"):\n",
    "        font = pilf.truetype(\"c:/windows/fonts/nirmalas.ttf\", font_size)\n",
    "\n",
    "    #x, y = (img.width - 510, img.height-100)\n",
    "    text = caption\n",
    "    w, h = font.getsize(text)\n",
    "    num_lines = len(text.split('\\n'))\n",
    "#    print(num_lines, w, h)\n",
    "    x, y = border, img.height - (num_lines + .10)*h\n",
    "    #draw.rectangle((x, y, x + w, y + h), fill='black')\n",
    "    #draw.rectangle((x, y, x + w, y + 4*h), fill=TINT_COLOR+(OPACITY,))\n",
    "    draw.rectangle((x, y, x + img.width - 200, y + (num_lines)*h), fill=TINT_COLOR+(OPACITY,))\n",
    "    draw.text((x, y), text, fill=(209, 239, 8), font=font)\n",
    "\n",
    "    img = pili.alpha_composite(img, overlay)\n",
    "    img = img.convert(\"RGB\") # Remove alpha for saving in jpg format.\n",
    "      \n",
    "    img.save('Image-With-Subs/' + filename[:-4] + '-border-subs.jpg')\n",
    "      \n",
    "    piliops.expand(pili.open('Image-With-Subs/' + filename[:-4] + '-border-subs.jpg'), border=(border, border),fill=color_border).save('Image-With-Subs/' + filename[:-4] + '-border-subs.jpg')\n"
   ]
  },
  {
   "cell_type": "markdown",
   "metadata": {},
   "source": [
    "The dialoge file is loaded and used to add english subs in the images. i th index on the dataframe is used as subtitle for i+1 th image as images are numbered from 1-60. "
   ]
  },
  {
   "cell_type": "code",
   "execution_count": 172,
   "metadata": {},
   "outputs": [],
   "source": [
    "import pandas as pd\n",
    "subs = pd.read_excel('ipynb.images/DialogEngHinnoncsv.xlsx')\n",
    "\n",
    "for i in range (0, num_images):\n",
    "    add_subs(subs.iat[i,0], \"Image[\" + str(i + 1) + \"].jpg\", 70, lang = \"eng\", color_border = \"red\")"
   ]
  },
  {
   "cell_type": "markdown",
   "metadata": {},
   "source": [
    "<h1>Horizontal Strip</h1>\n",
    "This is a function to create horizontal comic strips from the images. It takes the list of images to be stacked and the name of the new image. "
   ]
  },
  {
   "cell_type": "code",
   "execution_count": 173,
   "metadata": {},
   "outputs": [],
   "source": [
    "import numpy as np"
   ]
  },
  {
   "cell_type": "code",
   "execution_count": 174,
   "metadata": {},
   "outputs": [],
   "source": [
    "def h_strip(image_list, destination):\n",
    "      \n",
    "    imgs    = [ pili.open(i) for i in image_list ]\n",
    "      \n",
    "      # pick the image which is the smallest, and resize the others to match it (can be arbitrary image shape here)\n",
    "    min_shape = sorted( [(np.sum(i.size), i.size ) for i in imgs])[0][1]\n",
    "    imgs_comb = np.hstack( (np.asarray( i.resize(min_shape) ) for i in imgs ) )\n",
    "      \n",
    "      # save that beautiful picture\n",
    "    imgs_comb = pili.fromarray( imgs_comb)\n",
    "    imgs_comb.save( 'strips/'+destination)"
   ]
  },
  {
   "cell_type": "markdown",
   "metadata": {},
   "source": [
    "We pass two images i and i+1 th image to create Hstrip-i.jpg file."
   ]
  },
  {
   "cell_type": "code",
   "execution_count": 175,
   "metadata": {},
   "outputs": [
    {
     "name": "stderr",
     "output_type": "stream",
     "text": [
      "C:\\Users\\aryan\\AppData\\Local\\Continuum\\anaconda3\\lib\\site-packages\\ipykernel_launcher.py:7: FutureWarning: arrays to stack must be passed as a \"sequence\" type such as list or tuple. Support for non-sequence iterables such as generators is deprecated as of NumPy 1.16 and will raise an error in the future.\n",
      "  import sys\n"
     ]
    }
   ],
   "source": [
    "count = 0\n",
    "for i in range(1,num_images + 1,2):\n",
    "    count+=1\n",
    "    list_im = ['Image-With-Subs/Image['+ str(i)  +  ']-border-subs.jpg', 'Image-With-Subs/Image[' + str(i+1) + ']-border-subs.jpg']\n",
    "    h_strip(list_im, \"Hstrip-\" + str(count) + \".png\")"
   ]
  },
  {
   "cell_type": "markdown",
   "metadata": {},
   "source": [
    "<h1>Creating Pdf</h1>\n",
    "We can now create the PDFs using the strips of images created. The function create_pdf_page() is used to create pdf page using the list of images and dimensions of each page. This function places the images in zig-zag pattern.\n",
    "\n",
    "For even strips the starting point of x cordinate(width is given by - width_p-(int(width/resize_factor) + 100) where width_p is the width of the page and 100, 100 is the upper and side margin of the page) for odd strips the x coordinate is 100.\n",
    "\n",
    "argument resize_factor can be used to scale up or scale down the images without changing the aspect ratio. \n",
    "\n"
   ]
  },
  {
   "cell_type": "code",
   "execution_count": 176,
   "metadata": {},
   "outputs": [],
   "source": [
    "from fpdf import FPDF"
   ]
  },
  {
   "cell_type": "code",
   "execution_count": 177,
   "metadata": {},
   "outputs": [],
   "source": [
    "from PIL import Image\n",
    "from fpdf import FPDF\n",
    "\n",
    "[width_p, height_p] = [2480, 3508]\n",
    "pdf = FPDF(unit = \"pt\", format = [width_p, height_p])\n",
    "\n",
    "def create_pdf_page(imagelist, width_p = 2480, height_p = 3508, resize_factor = 3):\n",
    "    img_no = 1\n",
    "    init_h = 100\n",
    "    init_w = 100\n",
    "\n",
    "    space_bw_images = 100\n",
    "    \n",
    "\n",
    "    pdf.add_page()\n",
    "    for i in imagelist:\n",
    "        cover = Image.open(i)\n",
    "        width,height = cover.size\n",
    "\n",
    "        pdf.image(i, init_w, init_h, width/resize_factor, height/resize_factor)\n",
    "        init_h = init_h + space_bw_images + int(height/resize_factor)\n",
    "        img_no = img_no + 1\n",
    "        if(img_no % 2 == 0):\n",
    "            init_w = width_p-(int(width/resize_factor) + 100)\n",
    "        else:\n",
    "            init_w = 100\n",
    "            "
   ]
  },
  {
   "cell_type": "markdown",
   "metadata": {},
   "source": [
    "We pass 6 lists for 6 pages and then save the pages as one pdf named storybook-english.pdf"
   ]
  },
  {
   "cell_type": "code",
   "execution_count": 184,
   "metadata": {},
   "outputs": [
    {
     "data": {
      "text/plain": [
       "''"
      ]
     },
     "execution_count": 184,
     "metadata": {},
     "output_type": "execute_result"
    }
   ],
   "source": [
    "imagelist_1 = ['strips/Hstrip-1.png', \n",
    "             'strips/Hstrip-2.png', \n",
    "             'strips/Hstrip-3.png', \n",
    "             'strips/Hstrip-4.png', \n",
    "             'strips/Hstrip-5.png']\n",
    "\n",
    "\n",
    "imagelist_2 = ['strips/Hstrip-6.png', \n",
    "             'strips/Hstrip-7.png', \n",
    "             'strips/Hstrip-8.png', \n",
    "             'strips/Hstrip-9.png', \n",
    "             'strips/Hstrip-10.png']\n",
    "\n",
    "imagelist_3 = ['strips/Hstrip-11.png', \n",
    "             'strips/Hstrip-12.png', \n",
    "             'strips/Hstrip-13.png', \n",
    "             'strips/Hstrip-14.png', \n",
    "             'strips/Hstrip-15.png']\n",
    "\n",
    "imagelist_4 = ['strips/Hstrip-16.png', \n",
    "             'strips/Hstrip-17.png', \n",
    "             'strips/Hstrip-18.png', \n",
    "             'strips/Hstrip-19.png', \n",
    "             'strips/Hstrip-20.png']\n",
    "\n",
    "imagelist_5 = ['strips/Hstrip-21.png', \n",
    "             'strips/Hstrip-22.png', \n",
    "             'strips/Hstrip-23.png', \n",
    "             'strips/Hstrip-24.png', \n",
    "             'strips/Hstrip-25.png']\n",
    "\n",
    "imagelist_6 = ['strips/Hstrip-26.png', \n",
    "             'strips/Hstrip-27.png', \n",
    "             'strips/Hstrip-28.png', \n",
    "             'strips/Hstrip-29.png', \n",
    "             'strips/Hstrip-30.png']\n",
    "\n",
    "\n",
    "create_pdf_page(imagelist_1)\n",
    "create_pdf_page(imagelist_2)\n",
    "create_pdf_page(imagelist_3)\n",
    "create_pdf_page(imagelist_4)\n",
    "create_pdf_page(imagelist_5)\n",
    "create_pdf_page(imagelist_6)\n",
    "    \n",
    "pdf.output(\"pdfs/storybook-english.pdf\", \"F\")"
   ]
  },
  {
   "cell_type": "markdown",
   "metadata": {},
   "source": [
    "# Hindi Version \n",
    "For adding subtitles to cartoonized images. We take the second coloumn of the subs dataframe and pass the argument lang as \"hin\" and "
   ]
  },
  {
   "cell_type": "code",
   "execution_count": 179,
   "metadata": {},
   "outputs": [],
   "source": [
    "for i in range (0, num_images):\n",
    "      add_subs(subs.iat[i,1], \"Image[\" + str(i + 1) + \"].jpg\", 70, lang = \"hin\", color_border = \"red\")"
   ]
  },
  {
   "cell_type": "markdown",
   "metadata": {},
   "source": [
    "Creating horizontal strips for hindi version. "
   ]
  },
  {
   "cell_type": "code",
   "execution_count": 180,
   "metadata": {},
   "outputs": [
    {
     "name": "stderr",
     "output_type": "stream",
     "text": [
      "C:\\Users\\aryan\\AppData\\Local\\Continuum\\anaconda3\\lib\\site-packages\\ipykernel_launcher.py:7: FutureWarning: arrays to stack must be passed as a \"sequence\" type such as list or tuple. Support for non-sequence iterables such as generators is deprecated as of NumPy 1.16 and will raise an error in the future.\n",
      "  import sys\n"
     ]
    }
   ],
   "source": [
    "count = 0\n",
    "for i in range(1,num_images + 1, 2):\n",
    "    count+=1\n",
    "    list_im = ['Image-With-Subs/Image['+ str(i)  +  ']-border-subs.jpg', 'Image-With-Subs/Image[' + str(i+1) + ']-border-subs.jpg']\n",
    "    h_strip(list_im, \"Hstrip-\" + str(count) + \".png\")"
   ]
  },
  {
   "cell_type": "markdown",
   "metadata": {},
   "source": [
    "Generating pdf page for the hindi version using the same function and passing the list of strip images"
   ]
  },
  {
   "cell_type": "code",
   "execution_count": 185,
   "metadata": {},
   "outputs": [
    {
     "data": {
      "text/plain": [
       "''"
      ]
     },
     "execution_count": 185,
     "metadata": {},
     "output_type": "execute_result"
    }
   ],
   "source": [
    "imagelist_1 = ['strips/Hstrip-1.png', \n",
    "             'strips/Hstrip-2.png', \n",
    "             'strips/Hstrip-3.png', \n",
    "             'strips/Hstrip-4.png', \n",
    "             'strips/Hstrip-5.png']\n",
    "\n",
    "\n",
    "imagelist_2 = ['strips/Hstrip-6.png', \n",
    "             'strips/Hstrip-7.png', \n",
    "             'strips/Hstrip-8.png', \n",
    "             'strips/Hstrip-9.png', \n",
    "             'strips/Hstrip-10.png']\n",
    "\n",
    "imagelist_3 = ['strips/Hstrip-11.png', \n",
    "             'strips/Hstrip-12.png', \n",
    "             'strips/Hstrip-13.png', \n",
    "             'strips/Hstrip-14.png', \n",
    "             'strips/Hstrip-15.png']\n",
    "\n",
    "imagelist_4 = ['strips/Hstrip-16.png', \n",
    "             'strips/Hstrip-17.png', \n",
    "             'strips/Hstrip-18.png', \n",
    "             'strips/Hstrip-19.png', \n",
    "             'strips/Hstrip-20.png']\n",
    "\n",
    "imagelist_5 = ['strips/Hstrip-21.png', \n",
    "             'strips/Hstrip-22.png', \n",
    "             'strips/Hstrip-23.png', \n",
    "             'strips/Hstrip-24.png', \n",
    "             'strips/Hstrip-25.png']\n",
    "\n",
    "imagelist_6 = ['strips/Hstrip-26.png', \n",
    "             'strips/Hstrip-27.png', \n",
    "             'strips/Hstrip-28.png', \n",
    "             'strips/Hstrip-29.png', \n",
    "             'strips/Hstrip-30.png']\n",
    "\n",
    "pdf = FPDF(unit = \"pt\", format = [width_p, height_p])\n",
    "create_pdf_page(imagelist_1)\n",
    "create_pdf_page(imagelist_2)\n",
    "create_pdf_page(imagelist_3)\n",
    "create_pdf_page(imagelist_4)\n",
    "create_pdf_page(imagelist_5)\n",
    "create_pdf_page(imagelist_6)\n",
    "    \n",
    "pdf.output(\"pdfs/hindi-story-book2.pdf\", \"F\")"
   ]
  }
 ],
 "metadata": {
  "kernelspec": {
   "display_name": "Python 3",
   "language": "python",
   "name": "python3"
  },
  "language_info": {
   "codemirror_mode": {
    "name": "ipython",
    "version": 3
   },
   "file_extension": ".py",
   "mimetype": "text/x-python",
   "name": "python",
   "nbconvert_exporter": "python",
   "pygments_lexer": "ipython3",
   "version": "3.7.4"
  }
 },
 "nbformat": 4,
 "nbformat_minor": 5
}
